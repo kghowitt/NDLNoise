{
 "cells": [
  {
   "cell_type": "code",
   "execution_count": 3,
   "metadata": {},
   "outputs": [
    {
     "name": "stdout",
     "output_type": "stream",
     "text": [
      "{'lang': '611', 'SP': 0.0, 'HIP': 9.000000000899957e-15, 'HCP': 0.09000990909008999, 'OPT': 0.99000099990009, 'NS': 0.9952039920480157, 'NT': 0.9716553266393828, 'WHM': 0.0017613553526023944, 'PI': 1.0, 'TM': 0.9009090900909001, 'VtoI': 8.262301620018161e-19, 'ItoC': 9.00049999999996e-15, 'AH': 0.9892749506917016, 'QInv': 0.9099900909099099}\n"
     ]
    }
   ],
   "source": [
    "\n",
    "# coding: utf-8\n",
    "\n",
    "# In[6]:\n",
    "\n",
    "from NDChild import NDChild\n",
    "from time import clock\n",
    "from random import choice\n",
    "import csv\n",
    "from datetime import datetime\n",
    "import os\n",
    "from sys import argv\n",
    "from argparse import ArgumentParser\n",
    "from Sentence import Sentence\n",
    "\n",
    "#GLOBALS\n",
    "rate = 0.9\n",
    "conservativerate = 0.0005\n",
    "numberofsentences = 5000000\n",
    "threshold = 0.001\n",
    "\n",
    "language = \"611\" #English\n",
    "#language = \"584\" #French\n",
    "#language = \"2253\" #German\n",
    "#language = \"3856\" #Japanese\n",
    "\n",
    "infoFile = open('orig4.txt','r')\n",
    "#infoFile = open('EngFrJapGerm.txt','r')\n",
    "\n",
    "\n",
    "LD = []\n",
    "NOISE = []\n",
    "\n",
    "def pickASentence(languageDomain):\n",
    "    return choice(languageDomain)\n",
    "\n",
    "def createLD():\n",
    "    for line in infoFile:\n",
    "        [gramm01, inflStr, sentenceStr, grammStr, sentID, struID] = line.split(\"\\t\")\n",
    "        #[grammStr, inflStr, sentenceStr] = line.split(\"\\t\")\n",
    "        sentenceStr = sentenceStr[1:-1].rstrip()\n",
    "        inflStr = inflStr[1:-1]\n",
    "        s = Sentence([grammStr, inflStr, sentenceStr]) #constructor creates sentenceList\n",
    "        if grammStr == language:\n",
    "            LD.append(s)\n",
    "        else:\n",
    "            NOISE.append(s)\n",
    "        \n",
    "\n",
    "\n",
    "####   MAIN\n",
    "createLD()\n",
    "\n",
    "aChild = NDChild(rate, conservativerate, language)\n",
    "\n",
    "for i in range(numberofsentences):\n",
    "    #with some probability choose from LD or NOISE\n",
    "    if i%10 != 0:\n",
    "        s = pickASentence(LD)\n",
    "        aChild.consumeSentence(s)\n",
    "    else:\n",
    "        s = pickASentence(NOISE)\n",
    "        aChild.consumeSentence(s)\n",
    "    \n",
    "\n",
    "print(aChild.grammar)\n",
    "\n",
    "\n",
    "        \n",
    "\n",
    "infoFile.close()\n",
    "\n",
    "\n",
    "\n",
    "# In[ ]:\n",
    "\n",
    "\n",
    "\n",
    "\n",
    "# In[ ]:\n",
    "\n"
   ]
  },
  {
   "cell_type": "code",
   "execution_count": null,
   "metadata": {},
   "outputs": [],
   "source": []
  },
  {
   "cell_type": "code",
   "execution_count": null,
   "metadata": {},
   "outputs": [],
   "source": []
  },
  {
   "cell_type": "code",
   "execution_count": null,
   "metadata": {},
   "outputs": [],
   "source": []
  }
 ],
 "metadata": {
  "kernelspec": {
   "display_name": "Python 3",
   "language": "python",
   "name": "python3"
  },
  "language_info": {
   "codemirror_mode": {
    "name": "ipython",
    "version": 3
   },
   "file_extension": ".py",
   "mimetype": "text/x-python",
   "name": "python",
   "nbconvert_exporter": "python",
   "pygments_lexer": "ipython3",
   "version": "3.6.4"
  }
 },
 "nbformat": 4,
 "nbformat_minor": 4
}
