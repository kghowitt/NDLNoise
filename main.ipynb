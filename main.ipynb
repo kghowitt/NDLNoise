{
 "cells": [
  {
   "cell_type": "code",
   "execution_count": 6,
   "metadata": {},
   "outputs": [
    {
     "name": "stdout",
     "output_type": "stream",
     "text": [
      "{'SP': 1.2e-322, 'HIP': 1.2e-322, 'HCP': 5.041289983520083e-294, 'OPT': 0.5, 'NS': 4.331158103925054e-09, 'NT': 4.0159183208047536e-17, 'WHM': 0.9999999999999445, 'PI': 0.9999999999999973, 'TM': 1.2e-322, 'VtoI': 1.2e-322, 'ItoC': 0.5, 'AH': 0.9999999999999973, 'QInv': 0.5}\n"
     ]
    }
   ],
   "source": [
    "from NDChild import NDChild\n",
    "from time import clock\n",
    "from random import choice\n",
    "import csv\n",
    "from datetime import datetime\n",
    "import os\n",
    "from sys import argv\n",
    "from argparse import ArgumentParser\n",
    "from Sentence import Sentence\n",
    "\n",
    "#GLOBALS\n",
    "rate = 0.02\n",
    "conservativerate = 0.001\n",
    "numberofsentences = 500000\n",
    "threshold = .001\n",
    "\n",
    "language = \"611\" #English\n",
    "#language = \"584\" #French\n",
    "#language = \"2253\" #German\n",
    "#language = \"3856\" #Japanese\n",
    "\n",
    "infoFile = open('EngFrJapGerm.txt','r')\n",
    "\n",
    "LD = []\n",
    "\n",
    "def pickASentence(languageDomain):\n",
    "    \n",
    "    return choice(languageDomain)\n",
    "\n",
    "def createLD():\n",
    "    for line in infoFile:\n",
    "        [grammStr, inflStr, sentenceStr] = line.split(\"\\t\")\n",
    "        sentenceStr = sentenceStr.rstrip()\n",
    "        s = Sentence([grammStr, inflStr, sentenceStr]) #constructor creates sentenceList\n",
    "        if grammStr == language:\n",
    "            LD.append(s)\n",
    "        \n",
    "\n",
    "\n",
    "####   MAIN\n",
    "createLD()\n",
    "\n",
    "aChild = NDChild(rate, conservativerate)\n",
    "\n",
    "for i in range(numberofsentences):\n",
    "    s = pickASentence(LD)\n",
    "    aChild.consumeSentence(s)\n",
    "    \n",
    "\n",
    "print(aChild.grammar)\n",
    "\n",
    "        \n",
    "\n",
    "infoFile.close()\n",
    "\n"
   ]
  },
  {
   "cell_type": "code",
   "execution_count": null,
   "metadata": {
    "collapsed": true
   },
   "outputs": [],
   "source": []
  },
  {
   "cell_type": "code",
   "execution_count": null,
   "metadata": {
    "collapsed": true
   },
   "outputs": [],
   "source": []
  }
 ],
 "metadata": {
  "anaconda-cloud": {},
  "kernelspec": {
   "display_name": "Python 3",
   "language": "python",
   "name": "python3"
  },
  "language_info": {
   "codemirror_mode": {
    "name": "ipython",
    "version": 3
   },
   "file_extension": ".py",
   "mimetype": "text/x-python",
   "name": "python",
   "nbconvert_exporter": "python",
   "pygments_lexer": "ipython3",
   "version": "3.6.4"
  }
 },
 "nbformat": 4,
 "nbformat_minor": 1
}
